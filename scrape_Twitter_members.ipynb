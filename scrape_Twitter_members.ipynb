{
 "cells": [
  {
   "cell_type": "code",
   "execution_count": null,
   "id": "dd2aa978-1646-4872-94c8-35200fe73381",
   "metadata": {},
   "outputs": [],
   "source": [
   "#most of this code came from https://gist.github.com/macloo   see original code: https://gist.github.com/macloo/5c69cdf5294fa97eb41d6ad950233cee"
    
    "import tweepy # https://github.com/tweepy/tweepy\n",
    "import csv\n",
    "\n",
    "bearer_token = 'xxx'\n",
    "consumer_key = 'xxx'\n",
    "consumer_secret = 'xxx'\n",
    "access_key = 'xxx'\n",
    "access_secret ='xxx'\n",
    "\n",
    "\n",
    "\n",
    "auth = tweepy.OAuthHandler(consumer_key, consumer_secret)\n",
    "auth.set_access_token(access_key, access_secret)\n",
    "api = tweepy.API(auth)\n",
    "\n",
    "slug = 'Canadian MP Twitter List'\n",
    "owner = 'CJPAC'\n",
    "list_id = 224955374\n",
    "\n",
    "\n",
    "def get_list_members(api, list_id, slug):\n",
    "    members = []\n",
    "    for page in tweepy.Cursor(api.list_members, list_id=list_id).items():\n",
    "        members.append(page) \n",
    "    for m in members:\n",
    "        print(m)\n",
    "    return [ m.screen_name for m in members ]\n",
    "\n",
    "def create_csv(filename, usernames):\n",
    "\tcsvfile = open(filename, 'w')\n",
    "\tc = csv.writer(csvfile)\n",
    "\tc.writerow([\"name\",\"display_name\",\"followers_count\",\"following_count\",\"acct_created\"])\n",
    "\tfor name in usernames:\n",
    "\t\tuser_info = get_userinfo(name)\n",
    "\t\tc.writerow(user_info)\n",
    "\tcsvfile.close()\n",
    "\n",
    "def get_userinfo(name):\n",
    "\tuser = api.get_user(screen_name = name)\n",
    "\tuser_info = [name.encode('utf-8'),user.name.encode('utf-8'),user.followers_count,user.friends_count,user.created_at]\n",
    "\treturn user_info\n",
    "\n",
    "def get_userinfo(name):\n",
    "\tuser = api.get_user(screen_name = name)\n",
    "\tuser_info = [name.encode('utf-8'),user.name.encode('utf-8'),user.followers_count,user.friends_count,user.created_at]\n",
    "\treturn user_info\n",
    "\n",
    "if __name__ == '__main__':\n",
    "\tmain()"
   ]
  }
 ],
 "metadata": {
  "kernelspec": {
   "display_name": "Python 3.6.13 64-bit ('env-01': conda)",
   "language": "python",
   "name": "python3613jvsc74a57bd0c4d238830b6941ae1582167aadc30dca18ff7932df7d5c6e3418619b3ead9385"
  },
  "language_info": {
   "codemirror_mode": {
    "name": "ipython",
    "version": 3
   },
   "file_extension": ".py",
   "mimetype": "text/x-python",
   "name": "python",
   "nbconvert_exporter": "python",
   "pygments_lexer": "ipython3",
   "version": "3.6.13"
  }
 },
 "nbformat": 4,
 "nbformat_minor": 5
}
